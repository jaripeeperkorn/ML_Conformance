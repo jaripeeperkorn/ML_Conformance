{
 "cells": [
  {
   "cell_type": "code",
   "execution_count": 1,
   "id": "a10158f4",
   "metadata": {},
   "outputs": [],
   "source": [
    "from pm4py.algo.simulation.tree_generator import algorithm  as tree_gen\n",
    "\n",
    "from pm4py.objects.conversion.process_tree import converter as pt_converter\n",
    "\n",
    "from pm4py.objects.petri_net.exporter import exporter as pnml_exporter\n",
    "from pm4py.objects.process_tree.exporter import exporter as ptml_exporter\n",
    "\n",
    "from pm4py.algo.simulation.playout.petri_net import algorithm as simulator\n",
    "\n",
    "from pm4py.objects.log.exporter.xes import exporter as xes_exporter"
   ]
  },
  {
   "cell_type": "code",
   "execution_count": 2,
   "id": "6d11daff",
   "metadata": {},
   "outputs": [],
   "source": [
    "def get_percentages_tree(tree):\n",
    "    seq = str(tree).count('->')\n",
    "    par = str(tree).count('+')\n",
    "    cho = str(tree).count('X')\n",
    "    loop = str(tree).count('*')\n",
    "    tau = str(tree).count('*tau*') #correction because invisible uses same symbol *\n",
    "    loop = loop - 2*tau\n",
    "    return ([(seq/(seq+par+cho+loop)), (cho/(seq+par+cho+loop)), (par/(seq+par+cho+loop)), (loop/(seq+par+cho+loop))])\n",
    "\n",
    "def distance(list1, list2):\n",
    "    \"\"\"Distance between two vectors.\"\"\"\n",
    "    squares = [(p-q) ** 2 for p, q in zip(list1, list2)]\n",
    "    return sum(squares) ** .5\n",
    "\n",
    "def pick_most_optimal(percentages, opt_percentages): #returns index of the best fitting tree\n",
    "    distances = []\n",
    "    original_indices = []\n",
    "    for i in range(0, len(percentages)):\n",
    "        original_indices.append(i)\n",
    "        distances.append(distance(percentages[i],opt_percentages))\n",
    "    min_value = min(distances)\n",
    "    min_index = distances.index(min_value)\n",
    "    return original_indices[min_index]"
   ]
  },
  {
   "cell_type": "code",
   "execution_count": 3,
   "id": "587e4c3b",
   "metadata": {},
   "outputs": [],
   "source": [
    "def run_multiple_and_pick(parameters, amount):\n",
    "    opt_percentages = [parameters[\"sequence\"], parameters[\"choice\"], parameters[\"parallel\"], parameters[\"loop\"]]\n",
    "    percentages = []\n",
    "    trees = []\n",
    "    for i in range(0, amount):\n",
    "        tree = tree_gen.apply(parameters=parameters)\n",
    "        trees.append(tree)\n",
    "        percentages.append(get_percentages_tree(tree))\n",
    "    index = pick_most_optimal(percentages, opt_percentages)\n",
    "    print(opt_percentages)\n",
    "    print(percentages[index])\n",
    "    return trees[index]"
   ]
  },
  {
   "cell_type": "code",
   "execution_count": 4,
   "id": "04a9f49f",
   "metadata": {},
   "outputs": [
    {
     "name": "stdout",
     "output_type": "stream",
     "text": [
      "1.0 0.0 0.0 0.0\n",
      "[1.0, 0.0, 0.0, 0.0]\n",
      "[1.0, 0.0, 0.0, 0.0]\n"
     ]
    },
    {
     "data": {
      "application/vnd.jupyter.widget-view+json": {
       "model_id": "fe0b4e43759b4181ba93ed2ce9bad046",
       "version_major": 2,
       "version_minor": 0
      },
      "text/plain": [
       "exporting log, completed traces ::   0%|          | 0/10000 [00:00<?, ?it/s]"
      ]
     },
     "metadata": {},
     "output_type": "display_data"
    },
    {
     "name": "stdout",
     "output_type": "stream",
     "text": [
      "0.9 0.0 0.0 0.1\n",
      "[0.9, 0.0, 0.0, 0.1]\n",
      "[0.9, 0.0, 0.0, 0.1]\n"
     ]
    },
    {
     "data": {
      "application/vnd.jupyter.widget-view+json": {
       "model_id": "aa683300ef914319b4db3ff8f8e2cbab",
       "version_major": 2,
       "version_minor": 0
      },
      "text/plain": [
       "exporting log, completed traces ::   0%|          | 0/10000 [00:00<?, ?it/s]"
      ]
     },
     "metadata": {},
     "output_type": "display_data"
    },
    {
     "name": "stdout",
     "output_type": "stream",
     "text": [
      "0.8 0.0 0.0 0.2\n",
      "[0.8, 0.0, 0.0, 0.2]\n",
      "[0.8, 0.0, 0.0, 0.2]\n"
     ]
    },
    {
     "data": {
      "application/vnd.jupyter.widget-view+json": {
       "model_id": "3e723b406f134b879b98eb879e84d990",
       "version_major": 2,
       "version_minor": 0
      },
      "text/plain": [
       "exporting log, completed traces ::   0%|          | 0/10000 [00:00<?, ?it/s]"
      ]
     },
     "metadata": {},
     "output_type": "display_data"
    },
    {
     "name": "stdout",
     "output_type": "stream",
     "text": [
      "0.9 0.0 0.1 0.0\n",
      "[0.9, 0.0, 0.1, 0.0]\n",
      "[0.9, 0.0, 0.1, 0.0]\n"
     ]
    },
    {
     "data": {
      "application/vnd.jupyter.widget-view+json": {
       "model_id": "41c1670e771b4b12bc8268c0eff7fdea",
       "version_major": 2,
       "version_minor": 0
      },
      "text/plain": [
       "exporting log, completed traces ::   0%|          | 0/10000 [00:00<?, ?it/s]"
      ]
     },
     "metadata": {},
     "output_type": "display_data"
    },
    {
     "name": "stdout",
     "output_type": "stream",
     "text": [
      "0.8 0.0 0.1 0.1\n",
      "[0.8, 0.0, 0.1, 0.1]\n",
      "[0.8, 0.0, 0.1, 0.1]\n"
     ]
    },
    {
     "data": {
      "application/vnd.jupyter.widget-view+json": {
       "model_id": "99c355cb701a4b368ca2e4ed46325a27",
       "version_major": 2,
       "version_minor": 0
      },
      "text/plain": [
       "exporting log, completed traces ::   0%|          | 0/10000 [00:00<?, ?it/s]"
      ]
     },
     "metadata": {},
     "output_type": "display_data"
    },
    {
     "name": "stdout",
     "output_type": "stream",
     "text": [
      "0.7 0.0 0.1 0.2\n",
      "[0.7, 0.0, 0.1, 0.2]\n",
      "[0.7, 0.0, 0.1, 0.2]\n"
     ]
    },
    {
     "data": {
      "application/vnd.jupyter.widget-view+json": {
       "model_id": "222dd639f47c4fa18e8bf0f6c308375f",
       "version_major": 2,
       "version_minor": 0
      },
      "text/plain": [
       "exporting log, completed traces ::   0%|          | 0/10000 [00:00<?, ?it/s]"
      ]
     },
     "metadata": {},
     "output_type": "display_data"
    },
    {
     "name": "stdout",
     "output_type": "stream",
     "text": [
      "0.8 0.0 0.2 0.0\n",
      "[0.8, 0.0, 0.2, 0.0]\n",
      "[0.8, 0.0, 0.2, 0.0]\n"
     ]
    },
    {
     "data": {
      "application/vnd.jupyter.widget-view+json": {
       "model_id": "fad31de10edf47ddbf5eacec3641d87a",
       "version_major": 2,
       "version_minor": 0
      },
      "text/plain": [
       "exporting log, completed traces ::   0%|          | 0/10000 [00:00<?, ?it/s]"
      ]
     },
     "metadata": {},
     "output_type": "display_data"
    },
    {
     "name": "stdout",
     "output_type": "stream",
     "text": [
      "0.7000000000000001 0.0 0.2 0.1\n",
      "[0.7000000000000001, 0.0, 0.2, 0.1]\n",
      "[0.7, 0.0, 0.2, 0.1]\n"
     ]
    },
    {
     "data": {
      "application/vnd.jupyter.widget-view+json": {
       "model_id": "fabe3bb4704c40e2bc3eee883fae1e13",
       "version_major": 2,
       "version_minor": 0
      },
      "text/plain": [
       "exporting log, completed traces ::   0%|          | 0/10000 [00:00<?, ?it/s]"
      ]
     },
     "metadata": {},
     "output_type": "display_data"
    },
    {
     "name": "stdout",
     "output_type": "stream",
     "text": [
      "0.6000000000000001 0.0 0.2 0.2\n",
      "[0.6000000000000001, 0.0, 0.2, 0.2]\n",
      "[0.6, 0.0, 0.2, 0.2]\n"
     ]
    },
    {
     "data": {
      "application/vnd.jupyter.widget-view+json": {
       "model_id": "7a3d444a31fe464f8108dcc7fd207092",
       "version_major": 2,
       "version_minor": 0
      },
      "text/plain": [
       "exporting log, completed traces ::   0%|          | 0/10000 [00:00<?, ?it/s]"
      ]
     },
     "metadata": {},
     "output_type": "display_data"
    },
    {
     "name": "stdout",
     "output_type": "stream",
     "text": [
      "0.9 0.1 0.0 0.0\n",
      "[0.9, 0.1, 0.0, 0.0]\n",
      "[0.9, 0.1, 0.0, 0.0]\n"
     ]
    },
    {
     "data": {
      "application/vnd.jupyter.widget-view+json": {
       "model_id": "2b3d014e9aaf48c7bb6e3b7e72a0f9af",
       "version_major": 2,
       "version_minor": 0
      },
      "text/plain": [
       "exporting log, completed traces ::   0%|          | 0/10000 [00:00<?, ?it/s]"
      ]
     },
     "metadata": {},
     "output_type": "display_data"
    },
    {
     "name": "stdout",
     "output_type": "stream",
     "text": [
      "0.8 0.1 0.0 0.1\n",
      "[0.8, 0.1, 0.0, 0.1]\n",
      "[0.8, 0.1, 0.0, 0.1]\n"
     ]
    },
    {
     "data": {
      "application/vnd.jupyter.widget-view+json": {
       "model_id": "e04a5a11033f491cae898a7f4793afc2",
       "version_major": 2,
       "version_minor": 0
      },
      "text/plain": [
       "exporting log, completed traces ::   0%|          | 0/10000 [00:00<?, ?it/s]"
      ]
     },
     "metadata": {},
     "output_type": "display_data"
    },
    {
     "name": "stdout",
     "output_type": "stream",
     "text": [
      "0.7 0.1 0.0 0.2\n",
      "[0.7, 0.1, 0.0, 0.2]\n",
      "[0.7, 0.1, 0.0, 0.2]\n"
     ]
    },
    {
     "data": {
      "application/vnd.jupyter.widget-view+json": {
       "model_id": "703f93ee6f2f4fdfa820ad64360e5355",
       "version_major": 2,
       "version_minor": 0
      },
      "text/plain": [
       "exporting log, completed traces ::   0%|          | 0/10000 [00:00<?, ?it/s]"
      ]
     },
     "metadata": {},
     "output_type": "display_data"
    },
    {
     "name": "stdout",
     "output_type": "stream",
     "text": [
      "0.8 0.1 0.1 0.0\n",
      "[0.8, 0.1, 0.1, 0.0]\n",
      "[0.8, 0.1, 0.1, 0.0]\n"
     ]
    },
    {
     "data": {
      "application/vnd.jupyter.widget-view+json": {
       "model_id": "44acbb0e5ad84da8a42990aed973355d",
       "version_major": 2,
       "version_minor": 0
      },
      "text/plain": [
       "exporting log, completed traces ::   0%|          | 0/10000 [00:00<?, ?it/s]"
      ]
     },
     "metadata": {},
     "output_type": "display_data"
    },
    {
     "name": "stdout",
     "output_type": "stream",
     "text": [
      "0.7000000000000001 0.1 0.1 0.1\n",
      "[0.7000000000000001, 0.1, 0.1, 0.1]\n",
      "[0.7, 0.1, 0.1, 0.1]\n"
     ]
    },
    {
     "data": {
      "application/vnd.jupyter.widget-view+json": {
       "model_id": "43fd9c9b2a6d48a89a5db3917a6f9306",
       "version_major": 2,
       "version_minor": 0
      },
      "text/plain": [
       "exporting log, completed traces ::   0%|          | 0/10000 [00:00<?, ?it/s]"
      ]
     },
     "metadata": {},
     "output_type": "display_data"
    },
    {
     "name": "stdout",
     "output_type": "stream",
     "text": [
      "0.6000000000000001 0.1 0.1 0.2\n",
      "[0.6000000000000001, 0.1, 0.1, 0.2]\n",
      "[0.6, 0.1, 0.1, 0.2]\n"
     ]
    },
    {
     "data": {
      "application/vnd.jupyter.widget-view+json": {
       "model_id": "8c29984186a549b287c0b5222ebcaac5",
       "version_major": 2,
       "version_minor": 0
      },
      "text/plain": [
       "exporting log, completed traces ::   0%|          | 0/10000 [00:00<?, ?it/s]"
      ]
     },
     "metadata": {},
     "output_type": "display_data"
    },
    {
     "name": "stdout",
     "output_type": "stream",
     "text": [
      "0.7 0.1 0.2 0.0\n",
      "[0.7, 0.1, 0.2, 0.0]\n",
      "[0.7, 0.1, 0.2, 0.0]\n"
     ]
    },
    {
     "data": {
      "application/vnd.jupyter.widget-view+json": {
       "model_id": "875c455980a1413b877ef7a68367df4a",
       "version_major": 2,
       "version_minor": 0
      },
      "text/plain": [
       "exporting log, completed traces ::   0%|          | 0/10000 [00:00<?, ?it/s]"
      ]
     },
     "metadata": {},
     "output_type": "display_data"
    },
    {
     "name": "stdout",
     "output_type": "stream",
     "text": [
      "0.6 0.1 0.2 0.1\n",
      "[0.6, 0.1, 0.2, 0.1]\n",
      "[0.6, 0.1, 0.2, 0.1]\n"
     ]
    },
    {
     "data": {
      "application/vnd.jupyter.widget-view+json": {
       "model_id": "da6a2a82d4d54634bce84885cc297a15",
       "version_major": 2,
       "version_minor": 0
      },
      "text/plain": [
       "exporting log, completed traces ::   0%|          | 0/10000 [00:00<?, ?it/s]"
      ]
     },
     "metadata": {},
     "output_type": "display_data"
    },
    {
     "name": "stdout",
     "output_type": "stream",
     "text": [
      "0.49999999999999994 0.1 0.2 0.2\n",
      "[0.49999999999999994, 0.1, 0.2, 0.2]\n",
      "[0.5, 0.1, 0.2, 0.2]\n"
     ]
    },
    {
     "data": {
      "application/vnd.jupyter.widget-view+json": {
       "model_id": "6368c6ceebff43d8aa770a33236b0325",
       "version_major": 2,
       "version_minor": 0
      },
      "text/plain": [
       "exporting log, completed traces ::   0%|          | 0/10000 [00:00<?, ?it/s]"
      ]
     },
     "metadata": {},
     "output_type": "display_data"
    },
    {
     "name": "stdout",
     "output_type": "stream",
     "text": [
      "0.8 0.2 0.0 0.0\n",
      "[0.8, 0.2, 0.0, 0.0]\n",
      "[0.8, 0.2, 0.0, 0.0]\n"
     ]
    },
    {
     "data": {
      "application/vnd.jupyter.widget-view+json": {
       "model_id": "90259c00e4fe4c289e8ef123b2b4e21e",
       "version_major": 2,
       "version_minor": 0
      },
      "text/plain": [
       "exporting log, completed traces ::   0%|          | 0/10000 [00:00<?, ?it/s]"
      ]
     },
     "metadata": {},
     "output_type": "display_data"
    },
    {
     "name": "stdout",
     "output_type": "stream",
     "text": [
      "0.7000000000000001 0.2 0.0 0.1\n",
      "[0.7000000000000001, 0.2, 0.0, 0.1]\n",
      "[0.7, 0.2, 0.0, 0.1]\n"
     ]
    },
    {
     "data": {
      "application/vnd.jupyter.widget-view+json": {
       "model_id": "0dcbd2c0b0aa480d8a609c44ddb54672",
       "version_major": 2,
       "version_minor": 0
      },
      "text/plain": [
       "exporting log, completed traces ::   0%|          | 0/10000 [00:00<?, ?it/s]"
      ]
     },
     "metadata": {},
     "output_type": "display_data"
    },
    {
     "name": "stdout",
     "output_type": "stream",
     "text": [
      "0.6000000000000001 0.2 0.0 0.2\n",
      "[0.6000000000000001, 0.2, 0.0, 0.2]\n",
      "[0.6, 0.2, 0.0, 0.2]\n"
     ]
    },
    {
     "data": {
      "application/vnd.jupyter.widget-view+json": {
       "model_id": "09161a8986364515b79a0ebdf3abe5d3",
       "version_major": 2,
       "version_minor": 0
      },
      "text/plain": [
       "exporting log, completed traces ::   0%|          | 0/10000 [00:00<?, ?it/s]"
      ]
     },
     "metadata": {},
     "output_type": "display_data"
    },
    {
     "name": "stdout",
     "output_type": "stream",
     "text": [
      "0.7000000000000001 0.2 0.1 0.0\n",
      "[0.7000000000000001, 0.2, 0.1, 0.0]\n",
      "[0.7, 0.2, 0.1, 0.0]\n"
     ]
    },
    {
     "data": {
      "application/vnd.jupyter.widget-view+json": {
       "model_id": "0605c22c04d240a2838ef87d7da65e8f",
       "version_major": 2,
       "version_minor": 0
      },
      "text/plain": [
       "exporting log, completed traces ::   0%|          | 0/10000 [00:00<?, ?it/s]"
      ]
     },
     "metadata": {},
     "output_type": "display_data"
    },
    {
     "name": "stdout",
     "output_type": "stream",
     "text": [
      "0.6000000000000001 0.2 0.1 0.1\n",
      "[0.6000000000000001, 0.2, 0.1, 0.1]\n",
      "[0.6, 0.2, 0.1, 0.1]\n"
     ]
    },
    {
     "data": {
      "application/vnd.jupyter.widget-view+json": {
       "model_id": "90c1603a48094ac6842e2928eb01edd6",
       "version_major": 2,
       "version_minor": 0
      },
      "text/plain": [
       "exporting log, completed traces ::   0%|          | 0/10000 [00:00<?, ?it/s]"
      ]
     },
     "metadata": {},
     "output_type": "display_data"
    },
    {
     "name": "stdout",
     "output_type": "stream",
     "text": [
      "0.5 0.2 0.1 0.2\n",
      "[0.5, 0.2, 0.1, 0.2]\n",
      "[0.5, 0.2, 0.1, 0.2]\n"
     ]
    },
    {
     "data": {
      "application/vnd.jupyter.widget-view+json": {
       "model_id": "f0bd59a7e2774c6588bea1bddaed4430",
       "version_major": 2,
       "version_minor": 0
      },
      "text/plain": [
       "exporting log, completed traces ::   0%|          | 0/10000 [00:00<?, ?it/s]"
      ]
     },
     "metadata": {},
     "output_type": "display_data"
    },
    {
     "name": "stdout",
     "output_type": "stream",
     "text": [
      "0.6000000000000001 0.2 0.2 0.0\n",
      "[0.6000000000000001, 0.2, 0.2, 0.0]\n",
      "[0.6, 0.2, 0.2, 0.0]\n"
     ]
    },
    {
     "data": {
      "application/vnd.jupyter.widget-view+json": {
       "model_id": "ddae0b35be714fec81cccc6d6c012eb7",
       "version_major": 2,
       "version_minor": 0
      },
      "text/plain": [
       "exporting log, completed traces ::   0%|          | 0/10000 [00:00<?, ?it/s]"
      ]
     },
     "metadata": {},
     "output_type": "display_data"
    },
    {
     "name": "stdout",
     "output_type": "stream",
     "text": [
      "0.5000000000000001 0.2 0.2 0.1\n",
      "[0.5000000000000001, 0.2, 0.2, 0.1]\n",
      "[0.5, 0.2, 0.2, 0.1]\n"
     ]
    },
    {
     "data": {
      "application/vnd.jupyter.widget-view+json": {
       "model_id": "9855c611b47c4dd3ae1c7f81bbd46d84",
       "version_major": 2,
       "version_minor": 0
      },
      "text/plain": [
       "exporting log, completed traces ::   0%|          | 0/10000 [00:00<?, ?it/s]"
      ]
     },
     "metadata": {},
     "output_type": "display_data"
    },
    {
     "name": "stdout",
     "output_type": "stream",
     "text": [
      "0.4000000000000001 0.2 0.2 0.2\n",
      "[0.4000000000000001, 0.2, 0.2, 0.2]\n",
      "[0.4, 0.2, 0.2, 0.2]\n"
     ]
    },
    {
     "data": {
      "application/vnd.jupyter.widget-view+json": {
       "model_id": "9310a2bc16bf442caae43c5017eff35d",
       "version_major": 2,
       "version_minor": 0
      },
      "text/plain": [
       "exporting log, completed traces ::   0%|          | 0/10000 [00:00<?, ?it/s]"
      ]
     },
     "metadata": {},
     "output_type": "display_data"
    }
   ],
   "source": [
    "for choice in [0.0, 0.10, 0.20]:\n",
    "    for parallel in [0.0, 0.10, 0.20]:\n",
    "        for loop in [0.0, 0.10]:\n",
    "            sequence = 1.0 - choice - parallel - loop\n",
    "            print(sequence, choice, parallel, loop)\n",
    "            parameters = {\"sequence\":sequence, \"choice\":choice, \"parallel\":parallel,\"loop\":loop,\n",
    "                          \"or\":0.0,\"mode\":20, \"min\":15, \"max\":30,\"silent\":0.0, \"duplicate\":0.0, \n",
    "                          \"lt_dependency\": 0.0, \"infrequent\":0.25,\"no_models\":1, \"unfold\":0, \"max_repeat\":3}\n",
    "            tree = run_multiple_and_pick(parameters, 10000)\n",
    "            filename = \"Process_Trees/PT_Choice\"+\"{:.2f}\".format(choice)[2:]+\"_Parallel\"+\"{:.2f}\".format(parallel)[2:]+\"_Loop\"+\"{:.2f}\".format(loop)[2:]+\".ptml\"\n",
    "            ptml_exporter.apply(tree, filename)\n",
    "            filename_net = \"Petri_Nets/PN_Choice\"+\"{:.2f}\".format(choice)[2:]+\"_Parallel\"+\"{:.2f}\".format(parallel)[2:]+\"_Loop\"+\"{:.2f}\".format(loop)[2:]+\".pnml\"\n",
    "            net, im, fm = pt_converter.apply(tree)\n",
    "            pnml_exporter.apply(net, im, filename_net)\n",
    "            \n",
    "            simulated_log = simulator.apply(net, im, variant=simulator.Variants.BASIC_PLAYOUT, \n",
    "                                            parameters={simulator.Variants.BASIC_PLAYOUT.value.Parameters.NO_TRACES: 10000})\n",
    "            \n",
    "            xes_exporter.apply(simulated_log, \"Playout_Logs/Log_Choice\"+\"{:.2f}\".format(choice)[2:]+\"_Parallel\"+\"{:.2f}\".format(parallel)[2:]+\"_Loop\"+\"{:.2f}\".format(loop)[2:]+\".xes\")"
   ]
  },
  {
   "cell_type": "code",
   "execution_count": null,
   "id": "4213eb43",
   "metadata": {},
   "outputs": [],
   "source": []
  },
  {
   "cell_type": "code",
   "execution_count": null,
   "id": "6ba5735f",
   "metadata": {},
   "outputs": [],
   "source": []
  }
 ],
 "metadata": {
  "kernelspec": {
   "display_name": "Python 3 (ipykernel)",
   "language": "python",
   "name": "python3"
  },
  "language_info": {
   "codemirror_mode": {
    "name": "ipython",
    "version": 3
   },
   "file_extension": ".py",
   "mimetype": "text/x-python",
   "name": "python",
   "nbconvert_exporter": "python",
   "pygments_lexer": "ipython3",
   "version": "3.8.8"
  }
 },
 "nbformat": 4,
 "nbformat_minor": 5
}
